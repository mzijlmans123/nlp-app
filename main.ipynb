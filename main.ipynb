{
 "cells": [
  {
   "cell_type": "markdown",
   "metadata": {},
   "source": [
    "### Import packages"
   ]
  },
  {
   "cell_type": "code",
   "execution_count": 1,
   "metadata": {},
   "outputs": [
    {
     "name": "stderr",
     "output_type": "stream",
     "text": [
      "c:\\Users\\MZijlmans\\AppData\\Local\\miniconda3\\Lib\\site-packages\\PyPDF2\\__init__.py:21: DeprecationWarning: PyPDF2 is deprecated. Please move to the pypdf library instead.\n",
      "  warnings.warn(\n"
     ]
    }
   ],
   "source": [
    "# NLP modules\n",
    "import spacy\n",
    "\n",
    "from gensim.corpora import Dictionary\n",
    "from gensim.models import LdaModel\n",
    "\n",
    "import pyLDAvis\n",
    "import pyLDAvis.gensim_models\n",
    "\n",
    "# Custom packages\n",
    "from utils.utils import f_read_pdf\n",
    "from utils.utils import f_textual_cleaning"
   ]
  },
  {
   "cell_type": "markdown",
   "metadata": {},
   "source": [
    "### Set global parameters"
   ]
  },
  {
   "cell_type": "code",
   "execution_count": 2,
   "metadata": {},
   "outputs": [],
   "source": [
    "PDF = 'data\\\\2022 Annual Report based on US GAAP jder53.pdf'"
   ]
  },
  {
   "cell_type": "markdown",
   "metadata": {},
   "source": [
    "### Extract data from PDF"
   ]
  },
  {
   "cell_type": "code",
   "execution_count": 3,
   "metadata": {},
   "outputs": [],
   "source": [
    "pagenumber = 1 # set pagenumber to extract\n",
    "pdf_text = f_read_pdf(PDF, pagenumber)"
   ]
  },
  {
   "cell_type": "markdown",
   "metadata": {},
   "source": [
    "### Textual data cleaning"
   ]
  },
  {
   "cell_type": "code",
   "execution_count": 4,
   "metadata": {},
   "outputs": [],
   "source": [
    "# Read corpus of text\n",
    "nlp = spacy.load('en_core_web_sm')\n",
    "doc = nlp(pdf_text)"
   ]
  },
  {
   "cell_type": "code",
   "execution_count": 5,
   "metadata": {},
   "outputs": [],
   "source": [
    "# Remove stop words, punctuation and perform lemmatisation\n",
    "text = f_textual_cleaning(doc)"
   ]
  },
  {
   "cell_type": "markdown",
   "metadata": {},
   "source": [
    "### Topic modeling"
   ]
  },
  {
   "cell_type": "code",
   "execution_count": 11,
   "metadata": {},
   "outputs": [],
   "source": [
    "# Cleaning and Setting Up the Corpus\n",
    "dictionary = Dictionary(text)\n",
    "corpus = [dictionary.doc2bow(text) for text in text]"
   ]
  },
  {
   "cell_type": "code",
   "execution_count": 15,
   "metadata": {},
   "outputs": [
    {
     "data": {
      "text/plain": [
       "[(0,\n",
       "  '0.034*\"technology\" + 0.032*\"innovation\" + 0.032*\"enable\" + 0.032*\"help\" + 0.032*\"energy\" + 0.032*\"ground\" + 0.032*\"humanity\" + 0.032*\"break\" + 0.032*\"healthcare\" + 0.032*\"transition\"'),\n",
       " (1,\n",
       "  '0.037*\"challenge\" + 0.037*\"facilitate\" + 0.037*\"seize\" + 0.037*\"mobility\" + 0.037*\"living\" + 0.037*\"opportunity\" + 0.037*\"smart\" + 0.037*\"innovation\" + 0.037*\"manage\" + 0.037*\"customer\"'),\n",
       " (2,\n",
       "  '0.039*\"pattern\" + 0.038*\"work\" + 0.038*\"small\" + 0.038*\"big\" + 0.022*\"help\" + 0.022*\"life\" + 0.022*\"strongly\" + 0.022*\"day\" + 0.022*\"shrink\" + 0.022*\"embed\"')]"
      ]
     },
     "execution_count": 15,
     "metadata": {},
     "output_type": "execute_result"
    }
   ],
   "source": [
    "# Latent Dirichlet Allocation (LDA)\n",
    "lda_model = LdaModel(corpus=corpus, num_topics=3, id2word=dictionary)\n",
    "lda_model.show_topics()"
   ]
  },
  {
   "cell_type": "code",
   "execution_count": 16,
   "metadata": {},
   "outputs": [
    {
     "data": {
      "text/html": [
       "\n",
       "<link rel=\"stylesheet\" type=\"text/css\" href=\"https://cdn.jsdelivr.net/gh/bmabey/pyLDAvis@3.4.0/pyLDAvis/js/ldavis.v1.0.0.css\">\n",
       "\n",
       "\n",
       "<div id=\"ldavis_el1033216112845661283776478269\" style=\"background-color:white;\"></div>\n",
       "<script type=\"text/javascript\">\n",
       "\n",
       "var ldavis_el1033216112845661283776478269_data = {\"mdsDat\": {\"x\": [-0.08241542253369673, 0.041563684721271435, 0.040851737812425265], \"y\": [-0.00030758860620849044, -0.05325618184590224, 0.05356377045211072], \"topics\": [1, 2, 3], \"cluster\": [1, 1, 1], \"Freq\": [50.97215721315911, 28.227234609212047, 20.800608177628845]}, \"tinfo\": {\"Term\": [\"innovation\", \"challenge\", \"facilitate\", \"seize\", \"mobility\", \"living\", \"opportunity\", \"smart\", \"manage\", \"customer\", \"partner\", \"take\", \"pollutionglobal\", \"energy\", \"humanity\", \"ground\", \"break\", \"healthcare\", \"ecosystem\", \"transition\", \"accessible\", \"renewable\", \"security\", \"food\", \"securityenergy\", \"tackle\", \"augment\", \"transitionsmart\", \"beingfood\", \"technology\", \"pattern\", \"work\", \"small\", \"big\", \"life\", \"strongly\", \"day\", \"shrink\", \"future\", \"embed\", \"play\", \"shape\", \"boundary\", \"physics\", \"planet\", \"impact\", \"push\", \"global\", \"create\", \"people\", \"effort\", \"supplier\", \"joint\", \"chip\", \"establish\", \"thank\", \"capability\", \"industry\", \"trend\", \"size\", \"help\", \"enable\", \"energy\", \"ground\", \"humanity\", \"break\", \"healthcare\", \"ecosystem\", \"transition\", \"accessible\", \"renewable\", \"security\", \"food\", \"securityenergy\", \"tackle\", \"augment\", \"transitionsmart\", \"beingfood\", \"innovation\", \"technology\", \"enable\", \"help\", \"pollutionglobal\", \"mobilityvirtual\", \"take\", \"size\", \"partner\", \"manage\", \"customer\", \"trend\", \"industry\", \"opportunity\", \"capability\", \"chip\", \"realitywearable\", \"establish\", \"big\", \"small\", \"challenge\", \"facilitate\", \"seize\", \"mobility\", \"living\", \"opportunity\", \"smart\", \"manage\", \"customer\", \"partner\", \"take\", \"pollutionglobal\", \"innovation\", \"beingfood\", \"transitionsmart\", \"mobilityvirtual\", \"securityenergy\", \"augment\", \"tackle\", \"realitywearable\", \"thank\", \"humanity\", \"renewable\", \"ecosystem\", \"security\", \"food\", \"ground\", \"healthcare\", \"accessible\", \"technology\", \"joint\", \"supplier\", \"effort\", \"people\", \"create\", \"work\", \"size\", \"trend\", \"enable\", \"help\", \"small\", \"big\"], \"Freq\": [1.0, 0.0, 0.0, 0.0, 0.0, 0.0, 0.0, 0.0, 0.0, 0.0, 0.0, 0.0, 0.0, 1.0, 1.0, 1.0, 1.0, 1.0, 1.0, 1.0, 1.0, 1.0, 1.0, 1.0, 1.0, 1.0, 1.0, 1.0, 1.0, 1.0, 1.424988345304589, 1.395874936175065, 1.389318625696743, 1.3835581505493415, 0.8175212626371411, 0.8170746733726757, 0.8166157111314969, 0.8160427944583781, 0.814267716633432, 0.8142828239696399, 0.8138091645461774, 0.8139435583153399, 0.8138735587122766, 0.8134981311536598, 0.8133455538938577, 0.8123445048828625, 0.812199310393696, 0.8118247715019149, 0.8077563180098095, 0.8060335348101987, 0.8031907579615749, 0.7975871666901798, 0.7904690820536796, 0.7748602643143596, 0.774251937685785, 0.7716247650833152, 0.7730571593045931, 0.769219485753837, 0.7663697362885019, 0.7546011213824705, 0.8204911188432793, 0.8123825124798383, 0.6455760634145251, 0.6449715083610555, 0.6447573209789308, 0.6445662255556426, 0.6442121236163717, 0.6435456366864165, 0.6436785858002414, 0.6428596162306258, 0.6421459611355721, 0.6421061369704969, 0.6420183875269188, 0.5830958854013308, 0.5612479774555398, 0.5541048774740533, 0.5325154101888783, 0.5140080758619616, 0.6547463723921512, 0.6841600010218041, 0.653032721912473, 0.6491344964155359, 0.19361125434787302, 0.21202268133427832, 0.1801793622226694, 0.21361411478263995, 0.1743330271525247, 0.17312900863323055, 0.17295053807596178, 0.2042735688560187, 0.20431876852626557, 0.16905554923882882, 0.20189988583815827, 0.20025450805972814, 0.1974698828137563, 0.1986532510649435, 0.20403517277278607, 0.1992460897884789, 0.5557272874992002, 0.5546105632981909, 0.5544454202308954, 0.5542726895091565, 0.5541275756179282, 0.5539648873800115, 0.5534281724113009, 0.5512858316541789, 0.5492266761380493, 0.5470752971454874, 0.5408038775817858, 0.5127584003867445, 0.5513247183832009, 0.1944814166474045, 0.1927304816972459, 0.19261442126963052, 0.17473267694087186, 0.1734351601352777, 0.1676862147403112, 0.17136417680486882, 0.16369157968589906, 0.14561151024954958, 0.14534969432757286, 0.1452786577024262, 0.14516918068087192, 0.14515689258608416, 0.14502413652911464, 0.14499725893699653, 0.14500594847508141, 0.22744292678752884, 0.1583901664241458, 0.15547435914220897, 0.15160882579648666, 0.1502776806179829, 0.1492059383757598, 0.1638501672429219, 0.14740650659747734, 0.14744039998037667, 0.15219117827501058, 0.15002827832184176, 0.1502579443476938, 0.15005430509241383], \"Total\": [1.0, 0.0, 0.0, 0.0, 0.0, 0.0, 0.0, 0.0, 0.0, 0.0, 0.0, 0.0, 0.0, 1.0, 1.0, 1.0, 1.0, 1.0, 1.0, 1.0, 1.0, 1.0, 1.0, 1.0, 1.0, 1.0, 1.0, 1.0, 1.0, 1.0, 1.7465437373259831, 1.7379963505830398, 1.7388226598329157, 1.7376476284145415, 1.1293617217551297, 1.1292622200450932, 1.1291662264305165, 1.128928061282462, 1.1283903518392786, 1.1284520944726937, 1.1282857572607574, 1.128484018716897, 1.1284805300339193, 1.1282114468671227, 1.1282837690789629, 1.1279358053366706, 1.1281041778741057, 1.1276226676714134, 1.1264705783681066, 1.1259386124214068, 1.1251275377844434, 1.123328948642083, 1.1213657963255705, 1.1202376320983305, 1.1198218871476806, 1.116557009634435, 1.1198903111411709, 1.119001484466441, 1.1180837051248973, 1.1156217427625879, 1.619653893580657, 1.6176064126673217, 1.0026122669172777, 1.0023813790214666, 1.0021631746703223, 1.0026651537533469, 1.0025950719518621, 1.002640371971796, 1.0029122191205802, 1.002949855312031, 1.0029762402089792, 1.0030721310727606, 1.0031017876231758, 1.0048347398047632, 1.0139357474652004, 1.0131278908235763, 1.0097907920301186, 1.0138757149011566, 1.4297679131102359, 1.5740129313417288, 1.6176064126673217, 1.619653893580657, 0.9493992873635868, 1.094817466241039, 0.9397948554661786, 1.1156217427625879, 0.9384005142417353, 0.9367425718179254, 0.937759705120262, 1.1180837051248973, 1.119001484466441, 0.9365663936632149, 1.1198903111411709, 1.1202376320983305, 1.1086520031111884, 1.1198218871476806, 1.7376476284145415, 1.7388226598329157, 0.9359758354314132, 0.9364559823670672, 0.9366697395555057, 0.9368724644982994, 0.9366841411946928, 0.9365663936632149, 0.9371043019904268, 0.9367425718179254, 0.937759705120262, 0.9384005142417353, 0.9397948554661786, 0.9493992873635868, 1.4297679131102359, 1.0138757149011566, 1.0097907920301186, 1.094817466241039, 1.0048347398047632, 1.0131278908235763, 1.0139357474652004, 1.1086520031111884, 1.116557009634435, 1.0021631746703223, 1.0029762402089792, 1.002640371971796, 1.0030721310727606, 1.0031017876231758, 1.0023813790214666, 1.0025950719518621, 1.002949855312031, 1.5740129313417288, 1.1213657963255705, 1.123328948642083, 1.1251275377844434, 1.1259386124214068, 1.1264705783681066, 1.7379963505830398, 1.1156217427625879, 1.1180837051248973, 1.6176064126673217, 1.619653893580657, 1.7388226598329157, 1.7376476284145415], \"Category\": [\"Default\", \"Default\", \"Default\", \"Default\", \"Default\", \"Default\", \"Default\", \"Default\", \"Default\", \"Default\", \"Default\", \"Default\", \"Default\", \"Default\", \"Default\", \"Default\", \"Default\", \"Default\", \"Default\", \"Default\", \"Default\", \"Default\", \"Default\", \"Default\", \"Default\", \"Default\", \"Default\", \"Default\", \"Default\", \"Default\", \"Topic1\", \"Topic1\", \"Topic1\", \"Topic1\", \"Topic1\", \"Topic1\", \"Topic1\", \"Topic1\", \"Topic1\", \"Topic1\", \"Topic1\", \"Topic1\", \"Topic1\", \"Topic1\", \"Topic1\", \"Topic1\", \"Topic1\", \"Topic1\", \"Topic1\", \"Topic1\", \"Topic1\", \"Topic1\", \"Topic1\", \"Topic1\", \"Topic1\", \"Topic1\", \"Topic1\", \"Topic1\", \"Topic1\", \"Topic1\", \"Topic1\", \"Topic1\", \"Topic2\", \"Topic2\", \"Topic2\", \"Topic2\", \"Topic2\", \"Topic2\", \"Topic2\", \"Topic2\", \"Topic2\", \"Topic2\", \"Topic2\", \"Topic2\", \"Topic2\", \"Topic2\", \"Topic2\", \"Topic2\", \"Topic2\", \"Topic2\", \"Topic2\", \"Topic2\", \"Topic2\", \"Topic2\", \"Topic2\", \"Topic2\", \"Topic2\", \"Topic2\", \"Topic2\", \"Topic2\", \"Topic2\", \"Topic2\", \"Topic2\", \"Topic2\", \"Topic2\", \"Topic2\", \"Topic2\", \"Topic2\", \"Topic3\", \"Topic3\", \"Topic3\", \"Topic3\", \"Topic3\", \"Topic3\", \"Topic3\", \"Topic3\", \"Topic3\", \"Topic3\", \"Topic3\", \"Topic3\", \"Topic3\", \"Topic3\", \"Topic3\", \"Topic3\", \"Topic3\", \"Topic3\", \"Topic3\", \"Topic3\", \"Topic3\", \"Topic3\", \"Topic3\", \"Topic3\", \"Topic3\", \"Topic3\", \"Topic3\", \"Topic3\", \"Topic3\", \"Topic3\", \"Topic3\", \"Topic3\", \"Topic3\", \"Topic3\", \"Topic3\", \"Topic3\", \"Topic3\", \"Topic3\", \"Topic3\", \"Topic3\", \"Topic3\", \"Topic3\"], \"logprob\": [30.0, 29.0, 28.0, 27.0, 26.0, 25.0, 24.0, 23.0, 22.0, 21.0, 20.0, 19.0, 18.0, 17.0, 16.0, 15.0, 14.0, 13.0, 12.0, 11.0, 10.0, 9.0, 8.0, 7.0, 6.0, 5.0, 4.0, 3.0, 2.0, 1.0, -3.2486, -3.2693, -3.274, -3.2781, -3.8043, -3.8048, -3.8054, -3.8061, -3.8082, -3.8082, -3.8088, -3.8086, -3.8087, -3.8092, -3.8094, -3.8106, -3.8108, -3.8112, -3.8163, -3.8184, -3.8219, -3.8289, -3.8379, -3.8578, -3.8586, -3.862, -3.8602, -3.8652, -3.8689, -3.8843, -3.8006, -3.8106, -3.4494, -3.4503, -3.4507, -3.451, -3.4515, -3.4525, -3.4523, -3.4536, -3.4547, -3.4548, -3.4549, -3.5512, -3.5894, -3.6022, -3.6419, -3.6773, -3.4353, -3.3913, -3.4379, -3.4439, -4.6537, -4.5628, -4.7256, -4.5554, -4.7586, -4.7655, -4.7665, -4.6001, -4.5999, -4.7893, -4.6118, -4.6199, -4.634, -4.628, -4.6012, -4.625, -3.294, -3.296, -3.2963, -3.2966, -3.2968, -3.2971, -3.2981, -3.302, -3.3057, -3.3096, -3.3212, -3.3744, -3.3019, -4.3439, -4.3529, -4.3535, -4.451, -4.4584, -4.4921, -4.4704, -4.5162, -4.6333, -4.6351, -4.6356, -4.6363, -4.6364, -4.6373, -4.6375, -4.6375, -4.1873, -4.5492, -4.5678, -4.5929, -4.6017, -4.6089, -4.5153, -4.621, -4.6208, -4.5891, -4.6034, -4.6019, -4.6032], \"loglift\": [30.0, 29.0, 28.0, 27.0, 26.0, 25.0, 24.0, 23.0, 22.0, 21.0, 20.0, 19.0, 18.0, 17.0, 16.0, 15.0, 14.0, 13.0, 12.0, 11.0, 10.0, 9.0, 8.0, 7.0, 6.0, 5.0, 4.0, 3.0, 2.0, 1.0, 0.4704, 0.4547, 0.4495, 0.446, 0.3508, 0.3503, 0.3498, 0.3493, 0.3476, 0.3476, 0.3472, 0.3472, 0.3471, 0.3468, 0.3466, 0.3457, 0.3453, 0.3453, 0.3413, 0.3396, 0.3368, 0.3314, 0.3242, 0.3053, 0.3049, 0.3044, 0.3033, 0.2991, 0.2962, 0.2829, -0.0062, -0.0148, 0.8247, 0.824, 0.8238, 0.823, 0.8226, 0.8215, 0.8214, 0.8201, 0.819, 0.8188, 0.8186, 0.7207, 0.6735, 0.6614, 0.625, 0.5856, 0.4839, 0.4317, 0.3578, 0.3506, -0.3251, -0.3768, -0.3868, -0.3881, -0.4183, -0.4235, -0.4256, -0.435, -0.4356, -0.4471, -0.4483, -0.4568, -0.4604, -0.4645, -0.8771, -0.9015, 1.0489, 1.0464, 1.0458, 1.0453, 1.0452, 1.0451, 1.0435, 1.04, 1.0352, 1.0306, 1.0176, 0.9542, 0.6172, -0.081, -0.086, -0.1675, -0.1791, -0.1948, -0.2293, -0.2969, -0.3498, -0.3588, -0.3614, -0.3616, -0.3627, -0.3628, -0.363, -0.3634, -0.3637, -0.3643, -0.3871, -0.4074, -0.4342, -0.4437, -0.4513, -0.7913, -0.4538, -0.4558, -0.7934, -0.809, -0.8784, -0.8791]}, \"token.table\": {\"Topic\": [2, 2, 2, 1, 1, 2, 1, 3, 1, 1, 3, 1, 2, 1, 1, 1, 2, 2, 1, 3, 2, 1, 1, 2, 2, 1, 2, 2, 1, 1, 2, 3, 1, 1, 3, 3, 3, 1, 3, 3, 1, 1, 1, 1, 1, 3, 1, 1, 2, 2, 2, 3, 1, 1, 1, 1, 3, 1, 1, 2, 3, 1, 2, 1, 2, 2, 1, 1], \"Freq\": [0.9970588207412291, 0.9870422175300054, 0.9863141855582276, 0.5754906712084179, 0.8861473223378896, 0.9973419304107954, 0.8929445947085636, 1.0684036511894313, 0.892667744188247, 0.8877284673059799, 1.0663712617847618, 0.8856092013672491, 0.9973665812333056, 0.8887881297165301, 0.8861696521262454, 0.6181973514503252, 0.6181973514503252, 0.9973945392416655, 0.892999155916767, 1.0678558510270963, 0.9969078037129957, 0.8862181410626189, 0.8868214773165571, 0.9976242784719411, 0.9974116450155595, 0.6174158590075349, 0.6174158590075349, 0.9978414945539842, 0.8865752778381888, 0.8936538636289808, 0.6994142131953828, 0.6994142131953828, 0.8917696645258352, 0.8854559002105278, 1.0675957412117079, 1.0675291484396952, 1.0673811408637202, 0.9133942696707364, 1.0677299620891538, 1.0656430647931172, 0.5725593803514096, 0.8881478874318314, 0.8863586721946962, 0.8863018572148006, 0.886300295439155, 1.0532976096674012, 0.8864429541290096, 0.9019962956759376, 0.9970325915114807, 0.9969372780106301, 0.9951885224373287, 1.0676121558859664, 0.8861445828333615, 0.8857960345710606, 0.8963611604805438, 0.57510177610412, 1.0671170731752928, 0.8855339196241493, 0.8902111898823875, 0.9862557883968099, 1.064062006919539, 0.6353187957277927, 0.6353187957277927, 0.8956103372880205, 0.9970962372727558, 0.9903041381369354, 0.8943874196684527, 0.5753752012566271], \"Term\": [\"accessible\", \"augment\", \"beingfood\", \"big\", \"boundary\", \"break\", \"capability\", \"challenge\", \"chip\", \"create\", \"customer\", \"day\", \"ecosystem\", \"effort\", \"embed\", \"enable\", \"enable\", \"energy\", \"establish\", \"facilitate\", \"food\", \"future\", \"global\", \"ground\", \"healthcare\", \"help\", \"help\", \"humanity\", \"impact\", \"industry\", \"innovation\", \"innovation\", \"joint\", \"life\", \"living\", \"manage\", \"mobility\", \"mobilityvirtual\", \"opportunity\", \"partner\", \"pattern\", \"people\", \"physics\", \"planet\", \"play\", \"pollutionglobal\", \"push\", \"realitywearable\", \"renewable\", \"security\", \"securityenergy\", \"seize\", \"shape\", \"shrink\", \"size\", \"small\", \"smart\", \"strongly\", \"supplier\", \"tackle\", \"take\", \"technology\", \"technology\", \"thank\", \"transition\", \"transitionsmart\", \"trend\", \"work\"]}, \"R\": 30, \"lambda.step\": 0.01, \"plot.opts\": {\"xlab\": \"PC1\", \"ylab\": \"PC2\"}, \"topic.order\": [3, 1, 2]};\n",
       "\n",
       "function LDAvis_load_lib(url, callback){\n",
       "  var s = document.createElement('script');\n",
       "  s.src = url;\n",
       "  s.async = true;\n",
       "  s.onreadystatechange = s.onload = callback;\n",
       "  s.onerror = function(){console.warn(\"failed to load library \" + url);};\n",
       "  document.getElementsByTagName(\"head\")[0].appendChild(s);\n",
       "}\n",
       "\n",
       "if(typeof(LDAvis) !== \"undefined\"){\n",
       "   // already loaded: just create the visualization\n",
       "   !function(LDAvis){\n",
       "       new LDAvis(\"#\" + \"ldavis_el1033216112845661283776478269\", ldavis_el1033216112845661283776478269_data);\n",
       "   }(LDAvis);\n",
       "}else if(typeof define === \"function\" && define.amd){\n",
       "   // require.js is available: use it to load d3/LDAvis\n",
       "   require.config({paths: {d3: \"https://d3js.org/d3.v5\"}});\n",
       "   require([\"d3\"], function(d3){\n",
       "      window.d3 = d3;\n",
       "      LDAvis_load_lib(\"https://cdn.jsdelivr.net/gh/bmabey/pyLDAvis@3.4.0/pyLDAvis/js/ldavis.v3.0.0.js\", function(){\n",
       "        new LDAvis(\"#\" + \"ldavis_el1033216112845661283776478269\", ldavis_el1033216112845661283776478269_data);\n",
       "      });\n",
       "    });\n",
       "}else{\n",
       "    // require.js not available: dynamically load d3 & LDAvis\n",
       "    LDAvis_load_lib(\"https://d3js.org/d3.v5.js\", function(){\n",
       "         LDAvis_load_lib(\"https://cdn.jsdelivr.net/gh/bmabey/pyLDAvis@3.4.0/pyLDAvis/js/ldavis.v3.0.0.js\", function(){\n",
       "                 new LDAvis(\"#\" + \"ldavis_el1033216112845661283776478269\", ldavis_el1033216112845661283776478269_data);\n",
       "            })\n",
       "         });\n",
       "}\n",
       "</script>"
      ],
      "text/plain": [
       "PreparedData(topic_coordinates=              x         y  topics  cluster       Freq\n",
       "topic                                                \n",
       "2     -0.082415 -0.000308       1        1  50.972157\n",
       "0      0.041564 -0.053256       2        1  28.227235\n",
       "1      0.040852  0.053564       3        1  20.800608, topic_info=          Term      Freq     Total Category  logprob  loglift\n",
       "15  innovation  1.000000  1.000000  Default  30.0000  30.0000\n",
       "39   challenge  0.000000  0.000000  Default  29.0000  29.0000\n",
       "40  facilitate  0.000000  0.000000  Default  28.0000  28.0000\n",
       "45       seize  0.000000  0.000000  Default  27.0000  27.0000\n",
       "43    mobility  0.000000  0.000000  Default  26.0000  26.0000\n",
       "..         ...       ...       ...      ...      ...      ...\n",
       "7        trend  0.147440  1.118084   Topic3  -4.6208  -0.4558\n",
       "35      enable  0.152191  1.617606   Topic3  -4.5891  -0.7934\n",
       "20        help  0.150028  1.619654   Topic3  -4.6034  -0.8090\n",
       "6        small  0.150258  1.738823   Topic3  -4.6019  -0.8784\n",
       "0          big  0.150054  1.737648   Topic3  -4.6032  -0.8791\n",
       "\n",
       "[140 rows x 6 columns], token_table=      Topic      Freq             Term\n",
       "term                                  \n",
       "47        2  0.997059       accessible\n",
       "62        2  0.987042          augment\n",
       "58        2  0.986314        beingfood\n",
       "0         1  0.575491              big\n",
       "18        1  0.886147         boundary\n",
       "...     ...       ...              ...\n",
       "12        1  0.895610            thank\n",
       "53        2  0.997096       transition\n",
       "60        2  0.990304  transitionsmart\n",
       "7         1  0.894387            trend\n",
       "13        1  0.575375             work\n",
       "\n",
       "[68 rows x 3 columns], R=30, lambda_step=0.01, plot_opts={'xlab': 'PC1', 'ylab': 'PC2'}, topic_order=[3, 1, 2])"
      ]
     },
     "execution_count": 16,
     "metadata": {},
     "output_type": "execute_result"
    }
   ],
   "source": [
    "# Visualizing Topics with pyLDAvis\n",
    "pyLDAvis.enable_notebook()\n",
    "pyLDAvis.gensim_models.prepare(lda_model, corpus, dictionary)"
   ]
  }
 ],
 "metadata": {
  "kernelspec": {
   "display_name": "Python 3",
   "language": "python",
   "name": "python3"
  },
  "language_info": {
   "codemirror_mode": {
    "name": "ipython",
    "version": 3
   },
   "file_extension": ".py",
   "mimetype": "text/x-python",
   "name": "python",
   "nbconvert_exporter": "python",
   "pygments_lexer": "ipython3",
   "version": "3.11.5"
  }
 },
 "nbformat": 4,
 "nbformat_minor": 2
}
